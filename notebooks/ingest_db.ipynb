{
 "cells": [
  {
   "cell_type": "code",
   "execution_count": 1,
   "metadata": {},
   "outputs": [
    {
     "ename": "TypeError",
     "evalue": "Relationship() got an unexpected keyword argument 'lazy'",
     "output_type": "error",
     "traceback": [
      "\u001b[31m---------------------------------------------------------------------------\u001b[39m",
      "\u001b[31mTypeError\u001b[39m                                 Traceback (most recent call last)",
      "\u001b[36mCell\u001b[39m\u001b[36m \u001b[39m\u001b[32mIn[1]\u001b[39m\u001b[32m, line 2\u001b[39m\n\u001b[32m      1\u001b[39m \u001b[38;5;28;01mfrom\u001b[39;00m\u001b[38;5;250m \u001b[39m\u001b[34;01msqlmodel\u001b[39;00m\u001b[38;5;250m \u001b[39m\u001b[38;5;28;01mimport\u001b[39;00m create_engine, Session\n\u001b[32m----> \u001b[39m\u001b[32m2\u001b[39m \u001b[38;5;28;01mfrom\u001b[39;00m\u001b[38;5;250m \u001b[39m\u001b[34;01mservices\u001b[39;00m\u001b[34;01m.\u001b[39;00m\u001b[34;01mdata_db\u001b[39;00m\u001b[38;5;250m \u001b[39m\u001b[38;5;28;01mimport\u001b[39;00m Patient, create_db_and_tables  \u001b[38;5;66;03m# Import your SQLModel classes\u001b[39;00m\n\u001b[32m      3\u001b[39m \u001b[38;5;28;01mfrom\u001b[39;00m\u001b[38;5;250m \u001b[39m\u001b[34;01mservices\u001b[39;00m\u001b[34;01m.\u001b[39;00m\u001b[34;01mdata_service\u001b[39;00m\u001b[38;5;250m \u001b[39m\u001b[38;5;28;01mimport\u001b[39;00m PatientRepository\n\u001b[32m      5\u001b[39m \u001b[38;5;66;03m# Initialize the database engine\u001b[39;00m\n",
      "\u001b[36mFile \u001b[39m\u001b[32m~/Documents/AISN/recsys-core/services/data_db.py:49\u001b[39m\n\u001b[32m     46\u001b[39m     prescriptions: List[\u001b[33m\"\u001b[39m\u001b[33mPrescription\u001b[39m\u001b[33m\"\u001b[39m] = Relationship(back_populates=\u001b[33m\"\u001b[39m\u001b[33mpatient\u001b[39m\u001b[33m\"\u001b[39m)\n\u001b[32m     48\u001b[39m \u001b[38;5;66;03m# # ----- Prescription Model -----\u001b[39;00m\n\u001b[32m---> \u001b[39m\u001b[32m49\u001b[39m \u001b[38;5;28;43;01mclass\u001b[39;49;00m\u001b[38;5;250;43m \u001b[39;49m\u001b[34;43;01mPrescription\u001b[39;49;00m\u001b[43m(\u001b[49m\u001b[43mSQLModel\u001b[49m\u001b[43m,\u001b[49m\u001b[43m \u001b[49m\u001b[43mtable\u001b[49m\u001b[43m=\u001b[49m\u001b[38;5;28;43;01mTrue\u001b[39;49;00m\u001b[43m)\u001b[49m\u001b[43m:\u001b[49m\n\u001b[32m     50\u001b[39m \u001b[43m    \u001b[49m\u001b[43m__tablename__\u001b[49m\u001b[43m \u001b[49m\u001b[43m=\u001b[49m\u001b[43m \u001b[49m\u001b[33;43m\"\u001b[39;49m\u001b[33;43mprescription_plus\u001b[39;49m\u001b[33;43m\"\u001b[39;49m\n\u001b[32m     52\u001b[39m \u001b[43m    \u001b[49m\u001b[43mprescription_id\u001b[49m\u001b[43m:\u001b[49m\u001b[43m \u001b[49m\u001b[38;5;28;43mint\u001b[39;49m\u001b[43m \u001b[49m\u001b[43m=\u001b[49m\u001b[43m \u001b[49m\u001b[43mField\u001b[49m\u001b[43m(\u001b[49m\u001b[43mprimary_key\u001b[49m\u001b[43m=\u001b[49m\u001b[38;5;28;43;01mTrue\u001b[39;49;00m\u001b[43m)\u001b[49m\n",
      "\u001b[36mFile \u001b[39m\u001b[32m~/Documents/AISN/recsys-core/services/data_db.py:63\u001b[39m, in \u001b[36mPrescription\u001b[39m\u001b[34m()\u001b[39m\n\u001b[32m     61\u001b[39m \u001b[38;5;66;03m# Relationships\u001b[39;00m\n\u001b[32m     62\u001b[39m patient: Patient = Relationship(back_populates=\u001b[33m\"\u001b[39m\u001b[33mprescriptions\u001b[39m\u001b[33m\"\u001b[39m)\n\u001b[32m---> \u001b[39m\u001b[32m63\u001b[39m sessions: List[\u001b[33m\"\u001b[39m\u001b[33mPatientSession\u001b[39m\u001b[33m\"\u001b[39m] = \u001b[43mRelationship\u001b[49m\u001b[43m(\u001b[49m\n\u001b[32m     64\u001b[39m \u001b[43m    \u001b[49m\u001b[43mback_populates\u001b[49m\u001b[43m=\u001b[49m\u001b[33;43m\"\u001b[39;49m\u001b[33;43mprescription\u001b[39;49m\u001b[33;43m\"\u001b[39;49m\u001b[43m,\u001b[49m\n\u001b[32m     65\u001b[39m \u001b[43m    \u001b[49m\u001b[43mlazy\u001b[49m\u001b[43m=\u001b[49m\u001b[33;43m\"\u001b[39;49m\u001b[33;43mjoined\u001b[39;49m\u001b[33;43m\"\u001b[39;49m\u001b[43m \u001b[49m\n\u001b[32m     66\u001b[39m \u001b[43m\u001b[49m\u001b[43m)\u001b[49m\n",
      "\u001b[31mTypeError\u001b[39m: Relationship() got an unexpected keyword argument 'lazy'"
     ]
    }
   ],
   "source": [
    "from sqlmodel import create_engine, Session\n",
    "from services.data_db import Patient, create_db_and_tables  # Import your SQLModel classes\n",
    "from services.data_service import PatientRepository\n",
    "\n",
    "# Initialize the database engine\n",
    "DB_USER=\"db_readOnly_prod\"\n",
    "DB_PASS=\"12345aA.\"\n",
    "DB_HOST=\"rgsweb.eodyne.com\"\n",
    "DB_NAME=\"global_prod\"\n",
    "\n",
    "# Create the engine\n",
    "connection_string = f\"mysql+pymysql://{DB_USER}:{DB_PASS}@{DB_HOST}/{DB_NAME}\"\n",
    "engine = create_engine(connection_string, echo=False)\n",
    "\n",
    "create_db_and_tables()\n",
    "\n",
    "# Create a session\n",
    "with Session(engine) as session:\n",
    "    # Initialize the repository\n",
    "    patient_repo = PatientRepository(session)\n",
    "\n",
    "    # Fetch all patient IDs\n",
    "    # patient_ids = patient_repo.get_all_patient_ids()\n",
    "    # print(\"Patient IDs:\", patient_ids)\n",
    "\n",
    "    # Fetch all patients\n",
    "    patients = patient_repo.get_all_patients(lazy_load=True)\n",
    "    # for patient in patients:\n",
    "    #     print(f\"Patient: {patient.patient_user}, ID: {patient.patient_id}\")\n",
    "    # for prescriptions in patients[0].prescriptions:\n",
    "    #     sessions = prescriptions.sessions\n",
    "    #     if len(sessions) > 0:\n",
    "    #         print(sessions)\n",
    "    # # Fetch a specific patient\n",
    "    # try:\n",
    "    #     patient = patient_repo.get_patient(\"1\")  # Replace with a valid patient ID\n",
    "    #     print(f\"Fetched Patient: {patient.patient_user}\")\n",
    "    # except ValueError as e:\n",
    "        # print(e)"
   ]
  }
 ],
 "metadata": {
  "kernelspec": {
   "display_name": "db",
   "language": "python",
   "name": "python3"
  },
  "language_info": {
   "codemirror_mode": {
    "name": "ipython",
    "version": 3
   },
   "file_extension": ".py",
   "mimetype": "text/x-python",
   "name": "python",
   "nbconvert_exporter": "python",
   "pygments_lexer": "ipython3",
   "version": "3.12.9"
  }
 },
 "nbformat": 4,
 "nbformat_minor": 2
}
